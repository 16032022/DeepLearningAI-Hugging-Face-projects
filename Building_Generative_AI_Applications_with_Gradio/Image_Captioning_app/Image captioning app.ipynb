{
 "cells": [
  {
   "cell_type": "markdown",
   "id": "adf933f7",
   "metadata": {},
   "source": [
    "# Image captioning app 🎨"
   ]
  },
  {
   "cell_type": "markdown",
   "id": "8f11529d",
   "metadata": {},
   "source": [
    "## Introduction\n",
    "This notebook demonstrates how to build an Image Captioning application using Hugging Face and Gradio."
   ]
  },
  {
   "cell_type": "markdown",
   "id": "143aabb9",
   "metadata": {},
   "source": [
    "## Load Environment Variables and Libraries\n",
    "In this section, we load the necessary environment variables and import the required libraries."
   ]
  },
  {
   "cell_type": "markdown",
   "id": "597c9d19",
   "metadata": {},
   "source": [
    "### Setup and Installation"
   ]
  },
  {
   "cell_type": "code",
   "execution_count": null,
   "id": "2a6ac1dd",
   "metadata": {},
   "outputs": [],
   "source": [
    "%pip install python-dotenv gradio"
   ]
  },
  {
   "cell_type": "markdown",
   "id": "179d9e83",
   "metadata": {},
   "source": [
    "### Loading API Keys and Libraries"
   ]
  },
  {
   "cell_type": "code",
   "execution_count": null,
   "id": "7163c3be",
   "metadata": {},
   "outputs": [],
   "source": [
    "from dotenv import load_dotenv, find_dotenv\n",
    "load_dotenv(find_dotenv())\n",
    "\n",
    "import os # Provides a way of using operating system-dependent functionality\n",
    "import io # Provides core tools for working with streams of data\n",
    "import IPython.display # Used for displaying rich content (e.g., images, HTML) in Jupyter Notebooks\n",
    "from PIL import Image # Python Imaging Library for opening, manipulating, and saving image files\n",
    "import base64 # Encodes and decodes data in base64 format\n",
    "import requests\n",
    "import json\n",
    "import torch\n",
    "import torch.nn as nn\n",
    "import warnings\n",
    "import gradio as gr\n",
    "\n",
    "# Ignore specific UserWarnings related to max_length in transformers\n",
    "warnings.filterwarnings(\"ignore\", message=\".*Using the model-agnostic default `max_length`.*\")\n",
    "\n",
    "# Load environment variables from .env file\n",
    "hf_api_key = os.getenv('HF_API_KEY')\n",
    "#hf_api_key = os.environ['HF_API_KEY']\n",
    "endpoint_url = os.getenv('HF_API_ITT_BASE')\n",
    "port1 = int(os.getenv('PORT1', 7860))\n",
    "\n",
    "# Uncomment the following line to print HF API Key, Endpoint URL and Port1\n",
    "#print(\"HF API Key:\", hf_api_key)\n",
    "#print(\"Endpoint URL:\", endpoint_url)\n",
    "#print(\"Port:\", port1)"
   ]
  },
  {
   "cell_type": "markdown",
   "id": "ecc10e36",
   "metadata": {},
   "source": [
    "The HF_API_ITT_BASE for the image-to-text endpoint is related to the choosen model from image-to-text section that is available on the Hugging Face website's. Here, the selected model is Salesforce/blip-image-captioning-large, which is currently widely used. The corresponding API URL is:\"https://api-inference.huggingface.co/models/Salesforce/blip-image-captioning-large\""
   ]
  },
  {
   "cell_type": "markdown",
   "id": "fb14fb11",
   "metadata": {},
   "source": [
    "### Helper Functions"
   ]
  },
  {
   "cell_type": "code",
   "execution_count": 3,
   "id": "cd3804d2",
   "metadata": {},
   "outputs": [],
   "source": [
    "#Image-to-text endpoint\n",
    "def get_completion(inputs, parameters=None, endpoint_url=endpoint_url):\n",
    "    headers = {\n",
    "        \"Authorization\": f\"Bearer {hf_api_key}\",\n",
    "        \"Content-Type\": \"application/json\"\n",
    "    }\n",
    "    data = {\"inputs\": inputs}\n",
    "    if parameters is not None:\n",
    "        data.update({\"parameters\": parameters})\n",
    "    response = requests.post(endpoint_url, headers=headers, data=json.dumps(data))\n",
    "    return json.loads(response.content.decode(\"utf-8\"))\n",
    "\n",
    "def get_generation(model, processor, image, dtype):\n",
    "    inputs = processor(image, return_tensors=\"pt\").to(dtype)\n",
    "    out = model.generate(**inputs)\n",
    "    return processor.decode(out[0], skip_special_tokens=True)\n",
    "\n",
    "def load_image(img_url):\n",
    "    image = Image.open(requests.get(img_url, stream=True).raw).convert('RGB')\n",
    "    return image"
   ]
  },
  {
   "cell_type": "markdown",
   "id": "c3523e0d",
   "metadata": {},
   "source": [
    "### Building the Image Captioning App"
   ]
  },
  {
   "cell_type": "code",
   "execution_count": null,
   "id": "f37b290a",
   "metadata": {},
   "outputs": [],
   "source": [
    "image_url = 'https://free-images.com/lg/9e46/white_bengal_tiger_tiger_0.jpg'\n",
    "image = load_image(image_url)\n",
    "display(image.resize((500, 350)))\n",
    "\n",
    "caption = get_completion(image_url)\n",
    "print(caption)"
   ]
  },
  {
   "cell_type": "markdown",
   "id": "a2b6ecf0",
   "metadata": {},
   "source": [
    "iface = gr.Interface(\n",
    "    fn=caption_image, \n",
    "    inputs=gr.Image(type=\"filepath\"),  # Corrected type\n",
    "    outputs=\"text\", \n",
    "    title=\"Image Captioning\"\n",
    ")\n",
    "iface.launch(server_port=port1)\n"
   ]
  },
  {
   "cell_type": "markdown",
   "id": "78b4ab90",
   "metadata": {},
   "source": [
    "### Gradio Interface"
   ]
  },
  {
   "cell_type": "code",
   "execution_count": null,
   "id": "35682da2",
   "metadata": {},
   "outputs": [],
   "source": [
    "import gradio as gr\n",
    "import requests\n",
    "from PIL import Image\n",
    "from io import BytesIO\n",
    "\n",
    "def caption_image(image_url):\n",
    "    # Download the image from the URL\n",
    "    response = requests.get(image_url)\n",
    "    response.raise_for_status()  # Ensure the request was successful\n",
    "    image = Image.open(BytesIO(response.content))  # Load image with PIL\n",
    "    \n",
    "    # Call your captioning function here (replace `get_completion` with the actual implementation)\n",
    "    caption = get_completion(image)\n",
    "    return caption\n",
    "\n",
    "iface = gr.Interface(\n",
    "    fn=caption_image,\n",
    "    inputs=gr.Textbox(label=\"Image URL\"),  # Input as a URL\n",
    "    outputs=\"text\",\n",
    "    title=\"Image Captioning\"\n",
    ")\n",
    "\n",
    "iface.launch()\n"
   ]
  },
  {
   "cell_type": "markdown",
   "id": "c44edeee",
   "metadata": {},
   "source": [
    "def caption_image(image):\n",
    "    image_url = image.name\n",
    "    caption = get_completion(image_url)\n",
    "    return caption\n",
    "\n",
    "iface = gr.Interface(fn=caption_image, inputs=gr.Image(type=\"file\"), outputs=\"text\", title=\"Image Captioning\")\n",
    "iface.launch(server_port=port1)"
   ]
  },
  {
   "cell_type": "markdown",
   "id": "2a25aedc",
   "metadata": {},
   "source": [
    "### Gradio Interface"
   ]
  },
  {
   "cell_type": "code",
   "execution_count": null,
   "id": "c78ed783",
   "metadata": {},
   "outputs": [],
   "source": [
    "#Load Images \n",
    "\n",
    "#Image1\n",
    "image1 = Image.open('./Building_Generative_AI_Applications_with_Gradio/Image_Captioning_app/white_bengal_tiger.jpg')\n",
    "image1"
   ]
  },
  {
   "cell_type": "code",
   "execution_count": null,
   "id": "5d1b2672",
   "metadata": {},
   "outputs": [],
   "source": [
    "#Image2\n",
    "image2 = Image.open('./Building_Generative_AI_Applications_with_Gradio/Image_Captioning_app/cow.jpeg')\n",
    "image2"
   ]
  },
  {
   "cell_type": "code",
   "execution_count": null,
   "id": "66e6f2e5",
   "metadata": {},
   "outputs": [],
   "source": [
    "#Image3\n",
    "image3 = Image.open('./Building_Generative_AI_Applications_with_Gradio/Image_Captioning_app/bird_flight.jpeg')\n",
    "image3"
   ]
  },
  {
   "cell_type": "code",
   "execution_count": null,
   "id": "a5d43415",
   "metadata": {},
   "outputs": [],
   "source": [
    "def image_to_base64_str(pil_image):\n",
    "    byte_arr = io.BytesIO()\n",
    "    pil_image.save(byte_arr, format='PNG')\n",
    "    byte_arr = byte_arr.getvalue()\n",
    "    return str(base64.b64encode(byte_arr).decode('utf-8'))\n",
    "\n",
    "def captioner(image):\n",
    "    base64_image = image_to_base64_str(image)\n",
    "    result = get_completion(base64_image)\n",
    "    return result[0]['generated_text']\n",
    "\n",
    "gr.close_all()\n",
    "demo = gr.Interface(fn=captioner,\n",
    "                    inputs=[gr.Image(label=\"Upload image\", type=\"pil\")],\n",
    "                    outputs=[gr.Textbox(label=\"Caption\")],\n",
    "                    title=\"Image Captioning with BLIP\",\n",
    "                    description=\"Caption any image using the BLIP model\",\n",
    "                    allow_flagging=\"never\",\n",
    "                    examples=[image1, image2, image3])                  \n",
    "\n",
    "demo.launch(share=True, inline=True, server_port=int(os.environ['PORT1']))\n"
   ]
  },
  {
   "cell_type": "code",
   "execution_count": null,
   "id": "2362a3bc",
   "metadata": {},
   "outputs": [],
   "source": [
    "gr.close_all()"
   ]
  },
  {
   "cell_type": "markdown",
   "id": "2541e21e",
   "metadata": {},
   "source": [
    "## Building an image captioning app "
   ]
  },
  {
   "cell_type": "markdown",
   "id": "f1ca462d",
   "metadata": {},
   "source": [
    "Here we'll be using an [Inference Endpoint](https://huggingface.co/inference-endpoints) for `Salesforce/blip-image-captioning-base` a 14M parameter captioning model."
   ]
  },
  {
   "cell_type": "markdown",
   "id": "b98cf3f7",
   "metadata": {},
   "source": [
    "The free images are available on: https://free-images.com/"
   ]
  },
  {
   "cell_type": "markdown",
   "id": "90da616d",
   "metadata": {},
   "source": [
    "## Captioning with `gr.Interface()`"
   ]
  },
  {
   "cell_type": "markdown",
   "id": "f3bee33c-5e85-4677-b25a-fcee2b36703a",
   "metadata": {},
   "source": [
    "#### gr.Image()\n",
    "- The `type` parameter is the format that the `fn` function expects to receive as its input.  If `type` is `numpy` or `pil`, `gr.Image()` will convert the uploaded file to this format before sending it to the `fn` function.\n",
    "- If `type` is `filepath`, `gr.Image()` will temporarily store the image and provide a string path to that image location as input to the `fn` function.\n",
    "- gr.Image requires the installation of gradio and the set up of a custom PORT1 environment variable. "
   ]
  },
  {
   "cell_type": "markdown",
   "id": "74929fed",
   "metadata": {},
   "source": [
    "## Conclusion\n",
    "This notebook demonstrated how to build an Image Captioning application using Hugging Face and Gradio. For more information, refer to the Hugging Face Documentation and Gradio Documentation."
   ]
  }
 ],
 "metadata": {
  "kernelspec": {
   "display_name": "Python 3 (ipykernel)",
   "language": "python",
   "name": "python3"
  }
 },
 "nbformat": 4,
 "nbformat_minor": 5
}
