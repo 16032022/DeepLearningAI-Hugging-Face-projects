{
 "cells": [
  {
   "cell_type": "markdown",
   "id": "e6685771",
   "metadata": {},
   "source": [
    "# Lesson 3: Translation and Summarization 🎯 "
   ]
  },
  {
   "cell_type": "markdown",
   "id": "4c7109da",
   "metadata": {},
   "source": [
    "Requirements: If you would like to run this code on your own machine, you can install the following:\n",
    "\n",
    "- The trasformers library is need to use the pipeline API (available on the Hugging Face website).\n",
    "- The torch library (or PyTorch) is used for building, training, and deploying deep learning models efficiently, with strong support for hardware acceleration, and it is widely adopted for research and development in machine learning.\n"
   ]
  },
  {
   "cell_type": "code",
   "execution_count": 1,
   "id": "aa42f7c4",
   "metadata": {},
   "outputs": [
    {
     "name": "stdout",
     "output_type": "stream",
     "text": [
      "Requirement already satisfied: transformers in /usr/local/python/3.12.1/lib/python3.12/site-packages (4.47.1)\n",
      "Requirement already satisfied: filelock in /home/codespace/.local/lib/python3.12/site-packages (from transformers) (3.13.1)\n",
      "Requirement already satisfied: huggingface-hub<1.0,>=0.24.0 in /usr/local/python/3.12.1/lib/python3.12/site-packages (from transformers) (0.27.0)\n",
      "Requirement already satisfied: numpy>=1.17 in /home/codespace/.local/lib/python3.12/site-packages (from transformers) (2.2.0)\n",
      "Requirement already satisfied: packaging>=20.0 in /home/codespace/.local/lib/python3.12/site-packages (from transformers) (24.2)\n",
      "Requirement already satisfied: pyyaml>=5.1 in /home/codespace/.local/lib/python3.12/site-packages (from transformers) (6.0.2)\n",
      "Requirement already satisfied: regex!=2019.12.17 in /usr/local/python/3.12.1/lib/python3.12/site-packages (from transformers) (2024.11.6)\n",
      "Requirement already satisfied: requests in /home/codespace/.local/lib/python3.12/site-packages (from transformers) (2.32.3)\n",
      "Requirement already satisfied: tokenizers<0.22,>=0.21 in /usr/local/python/3.12.1/lib/python3.12/site-packages (from transformers) (0.21.0)\n",
      "Requirement already satisfied: safetensors>=0.4.1 in /usr/local/python/3.12.1/lib/python3.12/site-packages (from transformers) (0.4.5)\n",
      "Requirement already satisfied: tqdm>=4.27 in /usr/local/python/3.12.1/lib/python3.12/site-packages (from transformers) (4.67.1)\n",
      "Requirement already satisfied: fsspec>=2023.5.0 in /home/codespace/.local/lib/python3.12/site-packages (from huggingface-hub<1.0,>=0.24.0->transformers) (2024.2.0)\n",
      "Requirement already satisfied: typing-extensions>=3.7.4.3 in /home/codespace/.local/lib/python3.12/site-packages (from huggingface-hub<1.0,>=0.24.0->transformers) (4.12.2)\n",
      "Requirement already satisfied: charset-normalizer<4,>=2 in /home/codespace/.local/lib/python3.12/site-packages (from requests->transformers) (3.4.0)\n",
      "Requirement already satisfied: idna<4,>=2.5 in /home/codespace/.local/lib/python3.12/site-packages (from requests->transformers) (3.10)\n",
      "Requirement already satisfied: urllib3<3,>=1.21.1 in /home/codespace/.local/lib/python3.12/site-packages (from requests->transformers) (2.2.3)\n",
      "Requirement already satisfied: certifi>=2017.4.17 in /home/codespace/.local/lib/python3.12/site-packages (from requests->transformers) (2024.8.30)\n",
      "Note: you may need to restart the kernel to use updated packages.\n",
      "Requirement already satisfied: torch in /home/codespace/.local/lib/python3.12/site-packages (2.5.1+cpu)\n",
      "Requirement already satisfied: filelock in /home/codespace/.local/lib/python3.12/site-packages (from torch) (3.13.1)\n",
      "Requirement already satisfied: typing-extensions>=4.8.0 in /home/codespace/.local/lib/python3.12/site-packages (from torch) (4.12.2)\n",
      "Requirement already satisfied: networkx in /home/codespace/.local/lib/python3.12/site-packages (from torch) (3.2.1)\n",
      "Requirement already satisfied: jinja2 in /home/codespace/.local/lib/python3.12/site-packages (from torch) (3.1.4)\n",
      "Requirement already satisfied: fsspec in /home/codespace/.local/lib/python3.12/site-packages (from torch) (2024.2.0)\n",
      "Requirement already satisfied: setuptools in /home/codespace/.local/lib/python3.12/site-packages (from torch) (75.6.0)\n",
      "Requirement already satisfied: sympy==1.13.1 in /home/codespace/.local/lib/python3.12/site-packages (from torch) (1.13.1)\n",
      "Requirement already satisfied: mpmath<1.4,>=1.1.0 in /home/codespace/.local/lib/python3.12/site-packages (from sympy==1.13.1->torch) (1.3.0)\n",
      "Requirement already satisfied: MarkupSafe>=2.0 in /home/codespace/.local/lib/python3.12/site-packages (from jinja2->torch) (3.0.2)\n",
      "Note: you may need to restart the kernel to use updated packages.\n"
     ]
    }
   ],
   "source": [
    "%pip install transformers \n",
    "%pip install torch"
   ]
  },
  {
   "cell_type": "markdown",
   "id": "97e3e7c9-1437-4784-8a21-cd200bc609a5",
   "metadata": {},
   "source": [
    "- Here is some code that suppresses warning messages."
   ]
  },
  {
   "cell_type": "code",
   "execution_count": 2,
   "id": "782af222-1bea-449a-8dd4-655ad7a7b8ea",
   "metadata": {
    "height": 47
   },
   "outputs": [
    {
     "name": "stderr",
     "output_type": "stream",
     "text": [
      "/usr/local/python/3.12.1/lib/python3.12/site-packages/tqdm/auto.py:21: TqdmWarning: IProgress not found. Please update jupyter and ipywidgets. See https://ipywidgets.readthedocs.io/en/stable/user_install.html\n",
      "  from .autonotebook import tqdm as notebook_tqdm\n"
     ]
    }
   ],
   "source": [
    "#to suppress non- critical log messages\n",
    "from transformers.utils import logging\n",
    "logging.set_verbosity_error()"
   ]
  },
  {
   "cell_type": "markdown",
   "id": "bea43ec1",
   "metadata": {},
   "source": [
    "### Build the `translation` pipeline using 🤗 Transformers Library"
   ]
  },
  {
   "cell_type": "code",
   "execution_count": 3,
   "id": "d1d46ac9-d665-4690-99a4-43b625e02114",
   "metadata": {
    "height": 47
   },
   "outputs": [],
   "source": [
    "from transformers import pipeline \n",
    "import torch"
   ]
  },
  {
   "cell_type": "markdown",
   "id": "eb5088af",
   "metadata": {},
   "source": [
    "NLLB: No Language Left Behind: ['nllb-200-distilled-600M'](https://huggingface.co/facebook/nllb-200-distilled-600M)."
   ]
  },
  {
   "cell_type": "markdown",
   "id": "97ff0ac0",
   "metadata": {},
   "source": [
    "To get the code of the model go in the section transformers of the selected model. "
   ]
  },
  {
   "cell_type": "code",
   "execution_count": 4,
   "id": "a10e90b8",
   "metadata": {},
   "outputs": [],
   "source": [
    "translator = pipeline(task=\"translation\",\n",
    "                      model=\"facebook/nllb-200-distilled-600M\",\n",
    "                      #model=\"./models/facebook/nllb-200-distilled-600M\",\n",
    "                      torch_dtype=torch.bfloat16) #the model should use bfloat16 precision for tensor calculations"
   ]
  },
  {
   "cell_type": "markdown",
   "id": "53318d90",
   "metadata": {},
   "source": [
    "- Example1:Translation pf a text from English to French"
   ]
  },
  {
   "cell_type": "code",
   "execution_count": 5,
   "id": "095bd1c5-a96f-4b20-8e9c-601b0b158fd8",
   "metadata": {
    "height": 115
   },
   "outputs": [],
   "source": [
    "text = \"\"\"\\\n",
    "My puppy is adorable, \\\n",
    "Your kitten is cute.\n",
    "Her panda is friendly.\n",
    "His llama is thoughtful. \\\n",
    "We all have nice pets!\"\"\""
   ]
  },
  {
   "cell_type": "code",
   "execution_count": 6,
   "id": "75575792",
   "metadata": {},
   "outputs": [
    {
     "name": "stdout",
     "output_type": "stream",
     "text": [
      "My puppy is adorable, Your kitten is cute.\n",
      "Her panda is friendly.\n",
      "His llama is thoughtful. We all have nice pets!\n"
     ]
    }
   ],
   "source": [
    "print(text)"
   ]
  },
  {
   "cell_type": "code",
   "execution_count": 7,
   "id": "28447cc1",
   "metadata": {},
   "outputs": [],
   "source": [
    "text_translated = translator(text,\n",
    "                             src_lang=\"eng_Latn\",\n",
    "                             tgt_lang=\"fra_Latn\")"
   ]
  },
  {
   "cell_type": "code",
   "execution_count": 8,
   "id": "585be95f",
   "metadata": {},
   "outputs": [
    {
     "data": {
      "text/plain": [
       "[{'translation_text': 'Mon chiot est adorable, ton chaton est mignon, son panda est ami, sa lamme est attentive, nous avons tous de beaux animaux de compagnie.'}]"
      ]
     },
     "execution_count": 8,
     "metadata": {},
     "output_type": "execute_result"
    }
   ],
   "source": [
    "text_translated"
   ]
  },
  {
   "cell_type": "code",
   "execution_count": 9,
   "id": "edabe77f",
   "metadata": {},
   "outputs": [
    {
     "name": "stdout",
     "output_type": "stream",
     "text": [
      "The translation of the given text is:\n",
      "Mon chiot est adorable, ton chaton est mignon, son\n",
      "panda est ami, sa lamme est attentive, nous avons\n",
      "tous de beaux animaux de compagnie.\n"
     ]
    }
   ],
   "source": [
    "#yExtract and print just the relevant string in a clean format, thus only printing the translation_text directly.\n",
    "\n",
    "# Extract the translation text\n",
    "translation_text = text_translated[0]['translation_text']\n",
    "\n",
    "# Print the text in a clean format\n",
    "#print(translation_text)\n",
    "\n",
    "#To format the output properly, especially in order that the text appears in multiple lines \n",
    "import textwrap\n",
    "\n",
    "# Wrap the text into lines of a specified width (e.g., 50 characters per line)\n",
    "wrapped_text = textwrap.fill(translation_text, width=50)\n",
    "\n",
    "# Print the nicely formatted text\n",
    "#print(wrapped_text)\n",
    "print(f\"The translation of the given text is:\\n{wrapped_text}\")"
   ]
  },
  {
   "cell_type": "markdown",
   "id": "1f7ab814",
   "metadata": {},
   "source": [
    "To choose other languages, you can find the other language codes on the page: [Languages in FLORES-200](https://github.com/facebookresearch/flores/blob/main/flores200/README.md#languages-in-flores-200)\n",
    "\n"
   ]
  },
  {
   "cell_type": "markdown",
   "id": "9fb15192",
   "metadata": {},
   "source": [
    "- Example2:Translation of a text from English to Dutch"
   ]
  },
  {
   "cell_type": "code",
   "execution_count": 10,
   "id": "edfeae15",
   "metadata": {},
   "outputs": [],
   "source": [
    "text1 = \"\"\"\\\n",
    "What are you doing today?\"\"\""
   ]
  },
  {
   "cell_type": "code",
   "execution_count": 11,
   "id": "64ff8246",
   "metadata": {},
   "outputs": [],
   "source": [
    "text_translated1 = translator(text1,\n",
    "                             src_lang=\"eng_Latn\",\n",
    "                             tgt_lang=\"nld_Latn\") #Dutch"
   ]
  },
  {
   "cell_type": "code",
   "execution_count": 12,
   "id": "37bc060e",
   "metadata": {},
   "outputs": [
    {
     "data": {
      "text/plain": [
       "[{'translation_text': 'Wat doe je vandaag?'}]"
      ]
     },
     "execution_count": 12,
     "metadata": {},
     "output_type": "execute_result"
    }
   ],
   "source": [
    "text_translated1"
   ]
  },
  {
   "cell_type": "code",
   "execution_count": 13,
   "id": "35b6ac56",
   "metadata": {},
   "outputs": [
    {
     "name": "stdout",
     "output_type": "stream",
     "text": [
      "The translation of the given text is:\n",
      "Wat doe je vandaag?\n"
     ]
    }
   ],
   "source": [
    "# Extract the translation text\n",
    "translation_text = text_translated1[0]['translation_text']\n",
    "\n",
    "# Print the text in a clean format\n",
    "#print(translation_text)\n",
    "\n",
    "# Wrap the text into lines of a specified width (e.g., 50 characters per line)\n",
    "wrapped_text = textwrap.fill(translation_text, width=50)\n",
    "\n",
    "# Print the nicely formatted text\n",
    "#print(wrapped_text)\n",
    "print(f\"The translation of the given text is:\\n{wrapped_text}\")"
   ]
  },
  {
   "cell_type": "markdown",
   "id": "c7517649",
   "metadata": {},
   "source": [
    "## Free up some memory before continuing\n",
    "- In order to have enough free memory to run the rest of the code, please run the following to free up memory on the machine."
   ]
  },
  {
   "cell_type": "code",
   "execution_count": 14,
   "id": "c16e5dad-dac0-42e4-9a87-8128a1d49b44",
   "metadata": {
    "height": 30
   },
   "outputs": [],
   "source": [
    "import gc"
   ]
  },
  {
   "cell_type": "markdown",
   "id": "43cafb3a-51b8-4aae-929c-31d524dec530",
   "metadata": {
    "height": 30
   },
   "source": [
    "del translator"
   ]
  },
  {
   "cell_type": "code",
   "execution_count": 15,
   "id": "beb198f1",
   "metadata": {},
   "outputs": [],
   "source": [
    "del translator"
   ]
  },
  {
   "cell_type": "code",
   "execution_count": 16,
   "id": "61d698a7-8ae2-475e-ac46-d768c282b17c",
   "metadata": {
    "height": 30
   },
   "outputs": [
    {
     "data": {
      "text/plain": [
       "0"
      ]
     },
     "execution_count": 16,
     "metadata": {},
     "output_type": "execute_result"
    }
   ],
   "source": [
    "gc.collect()"
   ]
  },
  {
   "cell_type": "markdown",
   "id": "b2fac55f",
   "metadata": {},
   "source": [
    "### Build the `summarization` pipeline using 🤗 Transformers Library"
   ]
  },
  {
   "cell_type": "markdown",
   "id": "1ca6f847",
   "metadata": {},
   "source": [
    "Model info: ['bart-large-cnn'](https://huggingface.co/facebook/bart-large-cnn)"
   ]
  },
  {
   "cell_type": "code",
   "execution_count": 17,
   "id": "ab73a608",
   "metadata": {},
   "outputs": [],
   "source": [
    "summarizer = pipeline(task=\"summarization\",\n",
    "                      model=\"facebook/bart-large-cnn\",\n",
    "                      #model=\"./models/facebook/bart-large-cnn\",\n",
    "                      torch_dtype=torch.bfloat16)"
   ]
  },
  {
   "cell_type": "markdown",
   "id": "8d07da62",
   "metadata": {},
   "source": [
    "- Example1:Summarization of a text"
   ]
  },
  {
   "cell_type": "code",
   "execution_count": 18,
   "id": "98276d66-4274-4a2f-b6a7-b4fb839b94f7",
   "metadata": {
    "height": 149
   },
   "outputs": [],
   "source": [
    "text = \"\"\"Paris is the capital and most populous city of France, with\n",
    "          an estimated population of 2,175,601 residents as of 2018,\n",
    "          in an area of more than 105 square kilometres (41 square\n",
    "          miles). The City of Paris is the centre and seat of\n",
    "          government of the region and province of Île-de-France, or\n",
    "          Paris Region, which has an estimated population of\n",
    "          12,174,880, or about 18 percent of the population of France\n",
    "          as of 2017.\"\"\""
   ]
  },
  {
   "cell_type": "code",
   "execution_count": 19,
   "id": "d856f193-cbf7-450b-8ae3-42287096e56f",
   "metadata": {
    "height": 64
   },
   "outputs": [],
   "source": [
    "summary = summarizer(text,\n",
    "                     min_length=10,\n",
    "                     max_length=100)"
   ]
  },
  {
   "cell_type": "code",
   "execution_count": 20,
   "id": "a2c79f81-6baf-4f6b-95ee-b1a2072ec073",
   "metadata": {
    "height": 30
   },
   "outputs": [
    {
     "data": {
      "text/plain": [
       "[{'summary_text': 'Paris is the capital and most populous city of France, with an estimated population of 2,175,601 residents as of 2018. The City of Paris is the centre and seat of the government of the region and province of Île-de-France.'}]"
      ]
     },
     "execution_count": 20,
     "metadata": {},
     "output_type": "execute_result"
    }
   ],
   "source": [
    "summary"
   ]
  },
  {
   "cell_type": "code",
   "execution_count": 21,
   "id": "c244a5c8",
   "metadata": {},
   "outputs": [
    {
     "name": "stdout",
     "output_type": "stream",
     "text": [
      "Summary:\n",
      "Paris is the capital and most populous city of\n",
      "France, with an estimated population of 2,175,601\n",
      "residents as of 2018. The City of Paris is the\n",
      "centre and seat of the government of the region\n",
      "and province of Île-de-France.\n"
     ]
    }
   ],
   "source": [
    "# Extract the summary text\n",
    "summary_text = summary[0]['summary_text']\n",
    "\n",
    "# Wrap the text into lines of a specified width (e.g., 50 characters per line)\n",
    "wrapped_text = textwrap.fill(summary_text, width=50)\n",
    "\n",
    "# Print the nicely formatted text\n",
    "print(f\"Summary:\\n{wrapped_text}\")\n"
   ]
  },
  {
   "cell_type": "markdown",
   "id": "d3b520ba",
   "metadata": {},
   "source": [
    "- Example2:Summarization of a text"
   ]
  },
  {
   "cell_type": "code",
   "execution_count": 22,
   "id": "002c0464-7d37-4b50-b3fe-4099101e2c8b",
   "metadata": {
    "height": 30
   },
   "outputs": [],
   "source": [
    "text2 = \"\"\"Amsterdam, the capital of the Netherlands, is known for its picturesque canals,\n",
    "        historic architecture, and vibrant cultural scene. Founded in the 12th century as \n",
    "        a small fishing village, it grew into a major global trading hub during the Dutch Golden \n",
    "        Age. Today, Amsterdam is a cosmopolitan city, famous for its rich artistic heritage, \n",
    "        with museums like the Van Gogh Museum and Rijksmuseum. The city is also known for its \n",
    "        liberal attitudes, such as tolerance of cannabis use and legal sex work, as well \n",
    "        as its cycling culture, eco-friendly initiatives, and diverse, international population.\"\"\""
   ]
  },
  {
   "cell_type": "code",
   "execution_count": 23,
   "id": "b5e67790",
   "metadata": {},
   "outputs": [],
   "source": [
    "summary2 = summarizer(text2,\n",
    "                     min_length=10,\n",
    "                     max_length=100)"
   ]
  },
  {
   "cell_type": "code",
   "execution_count": 24,
   "id": "0f455dff",
   "metadata": {},
   "outputs": [
    {
     "data": {
      "text/plain": [
       "[{'summary_text': 'Amsterdam, the capital of the Netherlands, is known for its picturesque canals, historic architecture, and vibrant cultural scene. Founded in the 12th century as a small fishing village, it grew into a major global trading hub. Today, Amsterdam is a cosmopolitan city, famous for its rich artistic heritage, with museums like the Van Gogh Museum and Rijksmuseum.'}]"
      ]
     },
     "execution_count": 24,
     "metadata": {},
     "output_type": "execute_result"
    }
   ],
   "source": [
    "summary2"
   ]
  },
  {
   "cell_type": "code",
   "execution_count": 25,
   "id": "53320b7c",
   "metadata": {},
   "outputs": [
    {
     "name": "stdout",
     "output_type": "stream",
     "text": [
      "Summary:\n",
      "Amsterdam, the capital of the Netherlands, is\n",
      "known for its picturesque canals, historic\n",
      "architecture, and vibrant cultural scene. Founded\n",
      "in the 12th century as a small fishing village, it\n",
      "grew into a major global trading hub. Today,\n",
      "Amsterdam is a cosmopolitan city, famous for its\n",
      "rich artistic heritage, with museums like the Van\n",
      "Gogh Museum and Rijksmuseum.\n"
     ]
    }
   ],
   "source": [
    "# Extract the summary text\n",
    "summary_text = summary2[0]['summary_text']\n",
    "\n",
    "# Wrap the text into lines of a specified width (e.g., 50 characters per line)\n",
    "wrapped_text = textwrap.fill(summary_text, width=50)\n",
    "\n",
    "# Print the nicely formatted text\n",
    "print(f\"Summary:\\n{wrapped_text}\")"
   ]
  },
  {
   "cell_type": "markdown",
   "id": "ca15177b",
   "metadata": {},
   "source": [
    "### Try it yourself! \n",
    "- Try this model with your own texts!"
   ]
  }
 ],
 "metadata": {
  "kernelspec": {
   "display_name": "Python 3 (ipykernel)",
   "language": "python",
   "name": "python3"
  },
  "language_info": {
   "codemirror_mode": {
    "name": "ipython",
    "version": 3
   },
   "file_extension": ".py",
   "mimetype": "text/x-python",
   "name": "python",
   "nbconvert_exporter": "python",
   "pygments_lexer": "ipython3",
   "version": "3.12.1"
  }
 },
 "nbformat": 4,
 "nbformat_minor": 5
}
