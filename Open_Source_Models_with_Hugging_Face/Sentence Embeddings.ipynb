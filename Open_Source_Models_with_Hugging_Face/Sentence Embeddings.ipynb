{
 "cells": [
  {
   "cell_type": "markdown",
   "id": "93de5736",
   "metadata": {},
   "source": [
    "# Sentence Embeddings 📝"
   ]
  },
  {
   "cell_type": "markdown",
   "id": "fd62886a",
   "metadata": {},
   "source": [
    "## Introduction\n",
    "This notebook demonstrates how to use the `sentence-transformers` library to generate sentence embeddings for various NLP tasks such as similarity measurement, clustering, and more.\n",
    "\n",
    "## Requirements\n",
    "If you would like to run this code on your own machine, you can install the following:\n",
    "``` \n",
    "    !pip install sentence-transformers\n",
    "```\n",
    "- The sentence-transformers library is particularly useful when working with tasks that require understanding or comparing the meaning of sentences or text. Here are some common scenarios where you can use this library:\n",
    "\n",
    "  - Sentence Embeddings: The library can generate vector representations (embeddings) of sentences or paragraphs. This is useful for tasks like semantic search, clustering, or finding sentence similarities.\n",
    "\n",
    "  Example use case: Semantic Search: You can encode a query and a set of documents, then compare their embeddings to find the most relevant documents.\n",
    "\n",
    "  - Text Similarity: You can compare the semantic similarity between two sentences or     \n",
    "    texts. This is useful for tasks like:\n",
    "\n",
    "  - Duplicate detection: Find similar or duplicate sentences or paragraphs in datasets.\n",
    "    Question answering: Match user queries with the most relevant answers from a set of candidate answers.\n",
    "    Text Classification: You can use sentence embeddings as features for downstream machine learning models, including classification tasks like sentiment analysis or topic detection.\n",
    "\n",
    "  - Paraphrase Detection: The library can be used to determine if two sentences are \n",
    "    paraphrases, i.e., they express the same meaning in different words.\n",
    "\n",
    "  - Clustering: You can use embeddings to cluster similar sentences or documents. This  \n",
    "    is useful when grouping related content or discovering topics in large text corpora."
   ]
  },
  {
   "cell_type": "markdown",
   "id": "e7f62048",
   "metadata": {},
   "source": [
    "## Setup\n",
    "Let's start by installing and importing the necessary libraries.\n",
    "\n",
    "### Install and Import Libraries"
   ]
  },
  {
   "cell_type": "code",
   "execution_count": 1,
   "id": "c374f519",
   "metadata": {},
   "outputs": [
    {
     "name": "stdout",
     "output_type": "stream",
     "text": [
      "Collecting sentence-transformers\n",
      "  Downloading sentence_transformers-3.3.1-py3-none-any.whl.metadata (10 kB)\n",
      "Requirement already satisfied: transformers<5.0.0,>=4.41.0 in /usr/local/python/3.12.1/lib/python3.12/site-packages (from sentence-transformers) (4.47.1)\n",
      "Requirement already satisfied: tqdm in /usr/local/python/3.12.1/lib/python3.12/site-packages (from sentence-transformers) (4.67.1)\n",
      "Requirement already satisfied: torch>=1.11.0 in /home/codespace/.local/lib/python3.12/site-packages (from sentence-transformers) (2.5.1+cpu)\n",
      "Requirement already satisfied: scikit-learn in /home/codespace/.local/lib/python3.12/site-packages (from sentence-transformers) (1.6.0)\n",
      "Requirement already satisfied: scipy in /home/codespace/.local/lib/python3.12/site-packages (from sentence-transformers) (1.14.1)\n",
      "Requirement already satisfied: huggingface-hub>=0.20.0 in /usr/local/python/3.12.1/lib/python3.12/site-packages (from sentence-transformers) (0.27.0)\n",
      "Requirement already satisfied: Pillow in /home/codespace/.local/lib/python3.12/site-packages (from sentence-transformers) (11.0.0)\n",
      "Requirement already satisfied: filelock in /home/codespace/.local/lib/python3.12/site-packages (from huggingface-hub>=0.20.0->sentence-transformers) (3.13.1)\n",
      "Requirement already satisfied: fsspec>=2023.5.0 in /home/codespace/.local/lib/python3.12/site-packages (from huggingface-hub>=0.20.0->sentence-transformers) (2024.2.0)\n",
      "Requirement already satisfied: packaging>=20.9 in /home/codespace/.local/lib/python3.12/site-packages (from huggingface-hub>=0.20.0->sentence-transformers) (24.2)\n",
      "Requirement already satisfied: pyyaml>=5.1 in /home/codespace/.local/lib/python3.12/site-packages (from huggingface-hub>=0.20.0->sentence-transformers) (6.0.2)\n",
      "Requirement already satisfied: requests in /home/codespace/.local/lib/python3.12/site-packages (from huggingface-hub>=0.20.0->sentence-transformers) (2.32.3)\n",
      "Requirement already satisfied: typing-extensions>=3.7.4.3 in /home/codespace/.local/lib/python3.12/site-packages (from huggingface-hub>=0.20.0->sentence-transformers) (4.12.2)\n",
      "Requirement already satisfied: networkx in /home/codespace/.local/lib/python3.12/site-packages (from torch>=1.11.0->sentence-transformers) (3.2.1)\n",
      "Requirement already satisfied: jinja2 in /home/codespace/.local/lib/python3.12/site-packages (from torch>=1.11.0->sentence-transformers) (3.1.4)\n",
      "Requirement already satisfied: setuptools in /home/codespace/.local/lib/python3.12/site-packages (from torch>=1.11.0->sentence-transformers) (75.6.0)\n",
      "Requirement already satisfied: sympy==1.13.1 in /home/codespace/.local/lib/python3.12/site-packages (from torch>=1.11.0->sentence-transformers) (1.13.1)\n",
      "Requirement already satisfied: mpmath<1.4,>=1.1.0 in /home/codespace/.local/lib/python3.12/site-packages (from sympy==1.13.1->torch>=1.11.0->sentence-transformers) (1.3.0)\n",
      "Requirement already satisfied: numpy>=1.17 in /home/codespace/.local/lib/python3.12/site-packages (from transformers<5.0.0,>=4.41.0->sentence-transformers) (2.2.0)\n",
      "Requirement already satisfied: regex!=2019.12.17 in /usr/local/python/3.12.1/lib/python3.12/site-packages (from transformers<5.0.0,>=4.41.0->sentence-transformers) (2024.11.6)\n",
      "Requirement already satisfied: tokenizers<0.22,>=0.21 in /usr/local/python/3.12.1/lib/python3.12/site-packages (from transformers<5.0.0,>=4.41.0->sentence-transformers) (0.21.0)\n",
      "Requirement already satisfied: safetensors>=0.4.1 in /usr/local/python/3.12.1/lib/python3.12/site-packages (from transformers<5.0.0,>=4.41.0->sentence-transformers) (0.4.5)\n",
      "Requirement already satisfied: joblib>=1.2.0 in /home/codespace/.local/lib/python3.12/site-packages (from scikit-learn->sentence-transformers) (1.4.2)\n",
      "Requirement already satisfied: threadpoolctl>=3.1.0 in /home/codespace/.local/lib/python3.12/site-packages (from scikit-learn->sentence-transformers) (3.5.0)\n",
      "Requirement already satisfied: MarkupSafe>=2.0 in /home/codespace/.local/lib/python3.12/site-packages (from jinja2->torch>=1.11.0->sentence-transformers) (3.0.2)\n",
      "Requirement already satisfied: charset-normalizer<4,>=2 in /home/codespace/.local/lib/python3.12/site-packages (from requests->huggingface-hub>=0.20.0->sentence-transformers) (3.4.0)\n",
      "Requirement already satisfied: idna<4,>=2.5 in /home/codespace/.local/lib/python3.12/site-packages (from requests->huggingface-hub>=0.20.0->sentence-transformers) (3.10)\n",
      "Requirement already satisfied: urllib3<3,>=1.21.1 in /home/codespace/.local/lib/python3.12/site-packages (from requests->huggingface-hub>=0.20.0->sentence-transformers) (2.2.3)\n",
      "Requirement already satisfied: certifi>=2017.4.17 in /home/codespace/.local/lib/python3.12/site-packages (from requests->huggingface-hub>=0.20.0->sentence-transformers) (2024.8.30)\n",
      "Downloading sentence_transformers-3.3.1-py3-none-any.whl (268 kB)\n",
      "Installing collected packages: sentence-transformers\n",
      "Successfully installed sentence-transformers-3.3.1\n",
      "Note: you may need to restart the kernel to use updated packages.\n"
     ]
    }
   ],
   "source": [
    "# Install the sentence-transformers library\n",
    "%pip install sentence-transformers"
   ]
  },
  {
   "cell_type": "code",
   "execution_count": null,
   "id": "62a63e1c",
   "metadata": {},
   "outputs": [],
   "source": [
    "# Suppress non-critical log messages\n",
    "from transformers.utils import logging\n",
    "logging.set_verbosity_error()\n",
    "\n",
    "# Import necessary libraries\n",
    "from sentence_transformers import SentenceTransformer, util\n",
    "import torch"
   ]
  },
  {
   "cell_type": "markdown",
   "id": "c35a8e72",
   "metadata": {},
   "source": [
    "### Build the `sentence embedding` pipeline using 🤗 Transformers Library"
   ]
  },
  {
   "cell_type": "markdown",
   "id": "2ed9cec8-803a-4d7e-99d9-c4c84682901c",
   "metadata": {},
   "source": [
    "#The SentenceTransformer class is highly useful for transforming textual data into a format that can be used for machine learning models, similarity tasks, or information retrieval.\n",
    "from sentence_transformers import SentenceTransformer"
   ]
  },
  {
   "cell_type": "markdown",
   "id": "3f13a7ee",
   "metadata": {},
   "source": [
    "### Build the Sentence Embedding Pipeline\n",
    "\n",
    "We'll use the SentenceTransformer class to transform textual data into embeddings. These embeddings can be used for machine learning models, similarity tasks, or information retrieval."
   ]
  },
  {
   "cell_type": "markdown",
   "id": "823a0c64",
   "metadata": {},
   "source": [
    "## Load Sentence Embedding Model"
   ]
  },
  {
   "cell_type": "markdown",
   "id": "fd61a02d",
   "metadata": {},
   "source": [
    "Selection of the model based on the task that will be performed (similarity of sentences)"
   ]
  },
  {
   "cell_type": "code",
   "execution_count": 4,
   "id": "dd5dbb50-8c36-456c-ac0e-f724429c4b7f",
   "metadata": {},
   "outputs": [],
   "source": [
    "# Load the pre-trained model for generating sentence embeddings\n",
    "model = SentenceTransformer(\"all-MiniLM-L6-v2\")"
   ]
  },
  {
   "cell_type": "markdown",
   "id": "cad701ed",
   "metadata": {},
   "source": [
    "More info on [all-MiniLM-L6-v2](https://huggingface.co/sentence-transformers/all-MiniLM-L6-v2)."
   ]
  },
  {
   "cell_type": "markdown",
   "id": "210a9dd7",
   "metadata": {},
   "source": [
    "### Example 1: Check Similarity Among Sentences with No Similarity"
   ]
  },
  {
   "cell_type": "code",
   "execution_count": null,
   "id": "97b321ba",
   "metadata": {},
   "outputs": [],
   "source": [
    "# Define three sentences that have no similarity\n",
    "sentences1 = [\n",
    "    'The cat sits outside',\n",
    "    'A man is playing guitar',\n",
    "    'The movies are awesome'\n",
    "]\n",
    "\n",
    "# Encode the sentences to generate embeddings\n",
    "embeddings1 = model.encode(sentences1, convert_to_tensor=True)\n",
    "\n",
    "# Display the embeddings\n",
    "print(embeddings1)"
   ]
  },
  {
   "cell_type": "markdown",
   "id": "fe7d23e0-5e68-4537-8dd8-eb125e1a6820",
   "metadata": {},
   "source": [
    "# Define three sentences that have no similarity\n",
    "sentences1 = ['The cat sits outside',\n",
    "              'A man is playing guitar',\n",
    "              'The movies are awesome']"
   ]
  },
  {
   "cell_type": "markdown",
   "id": "75de3f4a-bd8e-41d6-847b-9a3a043adeeb",
   "metadata": {},
   "source": [
    "embeddings1"
   ]
  },
  {
   "cell_type": "markdown",
   "id": "17c0f42b",
   "metadata": {},
   "source": [
    "## Explanation\n",
    "The embeddings generated for each sentence are low, indicating that the sentences have no similarity."
   ]
  },
  {
   "cell_type": "markdown",
   "id": "a42f9e3d",
   "metadata": {},
   "source": [
    "### Example 2: Check Similarity Among Another Set of Sentences with No Similarity"
   ]
  },
  {
   "cell_type": "code",
   "execution_count": null,
   "id": "dc774052",
   "metadata": {},
   "outputs": [],
   "source": [
    "# Define another set of three sentences that have no similarity\n",
    "sentences2 = [\n",
    "    'The dog plays in the garden',\n",
    "    'A woman watches TV',\n",
    "    'The new movie is so great'\n",
    "]\n",
    "\n",
    "# Encode the sentences to generate embeddings\n",
    "embeddings2 = model.encode(sentences2, convert_to_tensor=True)\n",
    "\n",
    "# Display the embeddings\n",
    "print(embeddings2)"
   ]
  },
  {
   "cell_type": "markdown",
   "id": "5136886d-80d4-4a3a-a68e-692c25496b51",
   "metadata": {},
   "source": [
    "sentences2 = ['The dog plays in the garden',\n",
    "              'A woman watches TV',\n",
    "              'The new movie is so great']"
   ]
  },
  {
   "cell_type": "markdown",
   "id": "c7e0c68f",
   "metadata": {},
   "source": [
    "embeddings2 = model.encode(sentences2, \n",
    "                           convert_to_tensor=True)"
   ]
  },
  {
   "cell_type": "markdown",
   "id": "8a213124-ea97-4706-bbf4-737490e94244",
   "metadata": {},
   "source": [
    "print(embeddings2)"
   ]
  },
  {
   "cell_type": "markdown",
   "id": "612bdfa1",
   "metadata": {},
   "source": [
    "## Explanation\n",
    "The embeddings generated for each sentence are low, indicating that the sentences have no similarity."
   ]
  },
  {
   "cell_type": "markdown",
   "id": "99337351",
   "metadata": {},
   "source": [
    "## Cosine Similarity\n",
    "Calculate the cosine similarity between the embeddings of the two sets of sentences to measure how similar they are to each other.\n",
    "\n",
    "### Calculate Cosine Similarity"
   ]
  },
  {
   "cell_type": "markdown",
   "id": "41c3d585",
   "metadata": {},
   "source": [
    "* Calculate the cosine similarity between two sentences as a measure of how similar they are to each other."
   ]
  },
  {
   "cell_type": "code",
   "execution_count": null,
   "id": "ff244243",
   "metadata": {},
   "outputs": [],
   "source": [
    "# Calculate the cosine similarity between the embeddings of the two sets of sentences\n",
    "cosine_scores = util.cos_sim(embeddings1, embeddings2)\n",
    "\n",
    "# Display the cosine similarity scores\n",
    "print(cosine_scores)"
   ]
  },
  {
   "cell_type": "markdown",
   "id": "9e3b38a5-9b35-49de-9f85-c62583d6287d",
   "metadata": {},
   "source": [
    "from sentence_transformers import util"
   ]
  },
  {
   "cell_type": "markdown",
   "id": "39c1f4f3-94ad-4b5e-a40d-c4ba8277815b",
   "metadata": {},
   "source": [
    "cosine_scores = util.cos_sim(embeddings1,embeddings2)"
   ]
  },
  {
   "cell_type": "markdown",
   "id": "b6859d46-15a7-4f61-8a9f-06a15baeff40",
   "metadata": {},
   "source": [
    "print(cosine_scores)"
   ]
  },
  {
   "cell_type": "markdown",
   "id": "d9303ee6",
   "metadata": {},
   "source": [
    "## Display Cosine Similarity Scores"
   ]
  },
  {
   "cell_type": "code",
   "execution_count": null,
   "id": "74283c98",
   "metadata": {},
   "outputs": [],
   "source": [
    "# Print the cosine similarity scores for each pair of sentences\n",
    "for i in range(len(sentences1)):\n",
    "    print(f\"{sentences1[i]} \\t\\t {sentences2[i]} \\t\\t Score: {cosine_scores[i][i]:.4f}\")"
   ]
  },
  {
   "cell_type": "markdown",
   "id": "fae8571e-2dea-4872-b244-342731b949de",
   "metadata": {},
   "source": [
    "for i in range(len(sentences1)):\n",
    "    print(\"{} \\t\\t {} \\t\\t Score: {:.4f}\".format(sentences1[i],\n",
    "                                                 sentences2[i],\n",
    "                                                 cosine_scores[i][i]))"
   ]
  },
  {
   "cell_type": "markdown",
   "id": "ad045803",
   "metadata": {},
   "source": [
    "## Explanation\n",
    "The similarity between the third pair of sentences is relatively high (score: 0.6571), indicating some level of similarity."
   ]
  },
  {
   "cell_type": "markdown",
   "id": "2fcf49d7",
   "metadata": {},
   "source": [
    "### Example 3: Check Similarity Among Sentences with Similarity"
   ]
  },
  {
   "cell_type": "code",
   "execution_count": null,
   "id": "3b2c0253",
   "metadata": {},
   "outputs": [],
   "source": [
    "# Define two sentences that have similarity\n",
    "sentences3 = [\n",
    "    'She loves reading books',\n",
    "    'She likes to read stories'\n",
    "]\n",
    "\n",
    "# Encode the sentences to generate embeddings\n",
    "embeddings3 = model.encode(sentences3, convert_to_tensor=True)\n",
    "\n",
    "# Display the embeddings\n",
    "print(embeddings3)"
   ]
  },
  {
   "cell_type": "markdown",
   "id": "20144b40",
   "metadata": {},
   "source": [
    "# Define two sentences that have similarity\n",
    "sentences3 = ['She loves reading books',\n",
    "              'She likes to read stories']"
   ]
  },
  {
   "cell_type": "markdown",
   "id": "29d29403",
   "metadata": {},
   "source": [
    "embeddings3 = model.encode(sentences3, convert_to_tensor=True)"
   ]
  },
  {
   "cell_type": "markdown",
   "id": "6add2d9e",
   "metadata": {},
   "source": [
    "embeddings3"
   ]
  },
  {
   "cell_type": "markdown",
   "id": "80016005",
   "metadata": {},
   "source": [
    "## Explanation\n",
    "The embeddings generated for these sentences are high, indicating that there is a similarity between the sentences."
   ]
  },
  {
   "cell_type": "markdown",
   "id": "a0498025",
   "metadata": {},
   "source": [
    "### Conclusion\n",
    "This notebook demonstrated how to use the sentence-transformers library to generate sentence embeddings and measure similarity between sentences. The embeddings can be used for various NLP tasks such as clustering, text classification, and more."
   ]
  },
  {
   "cell_type": "markdown",
   "id": "587f456c",
   "metadata": {},
   "source": [
    "### Try it yourself! \n",
    "- Try this model with your own sentences!"
   ]
  }
 ],
 "metadata": {
  "kernelspec": {
   "display_name": "Python 3 (ipykernel)",
   "language": "python",
   "name": "python3"
  }
 },
 "nbformat": 4,
 "nbformat_minor": 5
}
