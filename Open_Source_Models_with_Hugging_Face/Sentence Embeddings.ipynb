{
 "cells": [
  {
   "cell_type": "markdown",
   "id": "93de5736",
   "metadata": {},
   "source": [
    "# Sentence Embeddings 📝"
   ]
  },
  {
   "cell_type": "markdown",
   "id": "fd62886a",
   "metadata": {},
   "source": [
    "## Introduction\n",
    "This notebook demonstrates how to use the `sentence-transformers` library to generate sentence embeddings for various natural language processing (NLP) tasks such as similarity measurement, clustering, and more. We will go through the steps of setting up the environment, preparing the data, (building the pipelines), training the model, and evaluating the results."
   ]
  },
  {
   "cell_type": "markdown",
   "id": "e7f62048",
   "metadata": {},
   "source": [
    "### Install and Import Libraries"
   ]
  },
  {
   "cell_type": "markdown",
   "id": "353233c5",
   "metadata": {},
   "source": [
    "Here is a brief description of the required libraries:\n",
    "\n",
    "- The sentence-transformers library is particularly useful for tasks requiring understanding or comparing sentence meanings. Common use cases include sentence embeddings, and text similarity.\n",
    "\n",
    "- The SentenceTransformer class is highly useful for transforming textual data into a format that can be used for machine learning models, similarity tasks, or information retrieval.\n",
    "\n",
    "- The util module in sentence_transformers provides utility functions for common tasks related to embeddings, such as Calculating cosine similarity between embeddings and Clustering sentences based on similarity.\n",
    "\n",
    "- PyTorch is an open-source deep learning framework developed by Facebook's AI Research lab. It provides flexibility and speed for building, training, and deploying deep learning models. \n",
    "\n",
    "  "
   ]
  },
  {
   "cell_type": "code",
   "execution_count": 1,
   "id": "c374f519",
   "metadata": {},
   "outputs": [
    {
     "name": "stdout",
     "output_type": "stream",
     "text": [
      "Collecting sentence-transformers\n",
      "  Downloading sentence_transformers-3.3.1-py3-none-any.whl.metadata (10 kB)\n",
      "Requirement already satisfied: transformers<5.0.0,>=4.41.0 in /usr/local/python/3.12.1/lib/python3.12/site-packages (from sentence-transformers) (4.47.1)\n",
      "Requirement already satisfied: tqdm in /usr/local/python/3.12.1/lib/python3.12/site-packages (from sentence-transformers) (4.67.1)\n",
      "Requirement already satisfied: torch>=1.11.0 in /home/codespace/.local/lib/python3.12/site-packages (from sentence-transformers) (2.5.1+cpu)\n",
      "Requirement already satisfied: scikit-learn in /home/codespace/.local/lib/python3.12/site-packages (from sentence-transformers) (1.6.0)\n",
      "Requirement already satisfied: scipy in /home/codespace/.local/lib/python3.12/site-packages (from sentence-transformers) (1.14.1)\n",
      "Requirement already satisfied: huggingface-hub>=0.20.0 in /usr/local/python/3.12.1/lib/python3.12/site-packages (from sentence-transformers) (0.27.1)\n",
      "Requirement already satisfied: Pillow in /home/codespace/.local/lib/python3.12/site-packages (from sentence-transformers) (11.0.0)\n",
      "Requirement already satisfied: filelock in /home/codespace/.local/lib/python3.12/site-packages (from huggingface-hub>=0.20.0->sentence-transformers) (3.13.1)\n",
      "Requirement already satisfied: fsspec>=2023.5.0 in /home/codespace/.local/lib/python3.12/site-packages (from huggingface-hub>=0.20.0->sentence-transformers) (2024.2.0)\n",
      "Requirement already satisfied: packaging>=20.9 in /home/codespace/.local/lib/python3.12/site-packages (from huggingface-hub>=0.20.0->sentence-transformers) (24.2)\n",
      "Requirement already satisfied: pyyaml>=5.1 in /home/codespace/.local/lib/python3.12/site-packages (from huggingface-hub>=0.20.0->sentence-transformers) (6.0.2)\n",
      "Requirement already satisfied: requests in /home/codespace/.local/lib/python3.12/site-packages (from huggingface-hub>=0.20.0->sentence-transformers) (2.32.3)\n",
      "Requirement already satisfied: typing-extensions>=3.7.4.3 in /home/codespace/.local/lib/python3.12/site-packages (from huggingface-hub>=0.20.0->sentence-transformers) (4.12.2)\n",
      "Requirement already satisfied: networkx in /home/codespace/.local/lib/python3.12/site-packages (from torch>=1.11.0->sentence-transformers) (3.2.1)\n",
      "Requirement already satisfied: jinja2 in /home/codespace/.local/lib/python3.12/site-packages (from torch>=1.11.0->sentence-transformers) (3.1.4)\n",
      "Requirement already satisfied: setuptools in /home/codespace/.local/lib/python3.12/site-packages (from torch>=1.11.0->sentence-transformers) (75.6.0)\n",
      "Requirement already satisfied: sympy==1.13.1 in /home/codespace/.local/lib/python3.12/site-packages (from torch>=1.11.0->sentence-transformers) (1.13.1)\n",
      "Requirement already satisfied: mpmath<1.4,>=1.1.0 in /home/codespace/.local/lib/python3.12/site-packages (from sympy==1.13.1->torch>=1.11.0->sentence-transformers) (1.3.0)\n",
      "Requirement already satisfied: numpy>=1.17 in /home/codespace/.local/lib/python3.12/site-packages (from transformers<5.0.0,>=4.41.0->sentence-transformers) (2.2.0)\n",
      "Requirement already satisfied: regex!=2019.12.17 in /usr/local/python/3.12.1/lib/python3.12/site-packages (from transformers<5.0.0,>=4.41.0->sentence-transformers) (2024.11.6)\n",
      "Requirement already satisfied: tokenizers<0.22,>=0.21 in /usr/local/python/3.12.1/lib/python3.12/site-packages (from transformers<5.0.0,>=4.41.0->sentence-transformers) (0.21.0)\n",
      "Requirement already satisfied: safetensors>=0.4.1 in /usr/local/python/3.12.1/lib/python3.12/site-packages (from transformers<5.0.0,>=4.41.0->sentence-transformers) (0.5.2)\n",
      "Requirement already satisfied: joblib>=1.2.0 in /home/codespace/.local/lib/python3.12/site-packages (from scikit-learn->sentence-transformers) (1.4.2)\n",
      "Requirement already satisfied: threadpoolctl>=3.1.0 in /home/codespace/.local/lib/python3.12/site-packages (from scikit-learn->sentence-transformers) (3.5.0)\n",
      "Requirement already satisfied: MarkupSafe>=2.0 in /home/codespace/.local/lib/python3.12/site-packages (from jinja2->torch>=1.11.0->sentence-transformers) (3.0.2)\n",
      "Requirement already satisfied: charset-normalizer<4,>=2 in /home/codespace/.local/lib/python3.12/site-packages (from requests->huggingface-hub>=0.20.0->sentence-transformers) (3.4.0)\n",
      "Requirement already satisfied: idna<4,>=2.5 in /home/codespace/.local/lib/python3.12/site-packages (from requests->huggingface-hub>=0.20.0->sentence-transformers) (3.10)\n",
      "Requirement already satisfied: urllib3<3,>=1.21.1 in /home/codespace/.local/lib/python3.12/site-packages (from requests->huggingface-hub>=0.20.0->sentence-transformers) (2.2.3)\n",
      "Requirement already satisfied: certifi>=2017.4.17 in /home/codespace/.local/lib/python3.12/site-packages (from requests->huggingface-hub>=0.20.0->sentence-transformers) (2024.8.30)\n",
      "Downloading sentence_transformers-3.3.1-py3-none-any.whl (268 kB)\n",
      "Installing collected packages: sentence-transformers\n",
      "Successfully installed sentence-transformers-3.3.1\n",
      "Note: you may need to restart the kernel to use updated packages.\n"
     ]
    }
   ],
   "source": [
    "# Install the sentence-transformers library\n",
    "%pip install sentence-transformers"
   ]
  },
  {
   "cell_type": "code",
   "execution_count": 2,
   "id": "62a63e1c",
   "metadata": {},
   "outputs": [
    {
     "name": "stderr",
     "output_type": "stream",
     "text": [
      "/usr/local/python/3.12.1/lib/python3.12/site-packages/tqdm/auto.py:21: TqdmWarning: IProgress not found. Please update jupyter and ipywidgets. See https://ipywidgets.readthedocs.io/en/stable/user_install.html\n",
      "  from .autonotebook import tqdm as notebook_tqdm\n"
     ]
    }
   ],
   "source": [
    "# Suppress non-critical log messages\n",
    "from transformers.utils import logging\n",
    "logging.set_verbosity_error()\n",
    "\n",
    "# Import necessary libraries\n",
    "from sentence_transformers import SentenceTransformer, util\n",
    "import torch"
   ]
  },
  {
   "cell_type": "markdown",
   "id": "c35a8e72",
   "metadata": {},
   "source": [
    "### Build the `sentence embedding` pipeline using 🤗 Transformers Library"
   ]
  },
  {
   "cell_type": "markdown",
   "id": "2ed9cec8-803a-4d7e-99d9-c4c84682901c",
   "metadata": {},
   "source": [
    "The SentenceTransformer class is highly useful for transforming textual data into a format that can be used for machine learning models, similarity tasks, or information retrieval. To sum up, build the Sentence Embedding Pipeline allows to transform textual data into embeddings that can be used for machine learning models, similarity tasks, or information retrieval."
   ]
  },
  {
   "cell_type": "markdown",
   "id": "823a0c64",
   "metadata": {},
   "source": [
    "#### Load Sentence Embedding Model"
   ]
  },
  {
   "cell_type": "markdown",
   "id": "cad701ed",
   "metadata": {},
   "source": [
    "The all-MiniLM-L6-v2 model (to test the similarity of sentences) for sentence similarity tasks has been selected. More info on [all-MiniLM-L6-v2](https://huggingface.co/sentence-transformers/all-MiniLM-L6-v2)."
   ]
  },
  {
   "cell_type": "code",
   "execution_count": 3,
   "id": "fe90d8a8",
   "metadata": {},
   "outputs": [],
   "source": [
    "# Load the pre-trained model for generating sentence embeddings\n",
    "model = SentenceTransformer(\"all-MiniLM-L6-v2\")"
   ]
  },
  {
   "cell_type": "markdown",
   "id": "210a9dd7",
   "metadata": {},
   "source": [
    " - Example 1: Check Similarity Among Sentences with No Similarity"
   ]
  },
  {
   "cell_type": "code",
   "execution_count": 4,
   "id": "97b321ba",
   "metadata": {},
   "outputs": [
    {
     "name": "stdout",
     "output_type": "stream",
     "text": [
      "tensor([[ 0.1392,  0.0030,  0.0470,  ...,  0.0641, -0.0163,  0.0636],\n",
      "        [ 0.0227, -0.0014, -0.0056,  ..., -0.0225,  0.0846, -0.0283],\n",
      "        [-0.1043, -0.0628,  0.0093,  ...,  0.0020,  0.0653, -0.0150]])\n"
     ]
    }
   ],
   "source": [
    "# Define three sentences that have no similarity\n",
    "sentences1 = [\n",
    "    'The cat sits outside',\n",
    "    'A man is playing guitar',\n",
    "    'The movies are awesome'\n",
    "]\n",
    "\n",
    "# Encode the sentences to generate embeddings\n",
    "embeddings1 = model.encode(sentences1, convert_to_tensor=True)\n",
    "\n",
    "# Display the embeddings\n",
    "print(embeddings1)"
   ]
  },
  {
   "cell_type": "markdown",
   "id": "17c0f42b",
   "metadata": {},
   "source": [
    "**Explanation output**: The embeddings generated for each sentence are low, indicating that the sentences have no similarity."
   ]
  },
  {
   "cell_type": "markdown",
   "id": "a42f9e3d",
   "metadata": {},
   "source": [
    " - Example 2: Check Similarity Among Another Set of Sentences with No Similarity"
   ]
  },
  {
   "cell_type": "code",
   "execution_count": 5,
   "id": "dc774052",
   "metadata": {},
   "outputs": [
    {
     "name": "stdout",
     "output_type": "stream",
     "text": [
      "tensor([[ 0.0163, -0.0700,  0.0384,  ...,  0.0447,  0.0254, -0.0023],\n",
      "        [ 0.0054, -0.0920,  0.0140,  ...,  0.0167, -0.0086, -0.0424],\n",
      "        [-0.0842, -0.0592, -0.0010,  ..., -0.0157,  0.0764,  0.0389]])\n"
     ]
    }
   ],
   "source": [
    "# Define another set of three sentences that have no similarity\n",
    "sentences2 = [\n",
    "    'The dog plays in the garden',\n",
    "    'A woman watches TV',\n",
    "    'The new movie is so great'\n",
    "]\n",
    "\n",
    "# Encode the sentences to generate embeddings\n",
    "embeddings2 = model.encode(sentences2, convert_to_tensor=True)\n",
    "\n",
    "# Display the embeddings\n",
    "print(embeddings2)"
   ]
  },
  {
   "cell_type": "markdown",
   "id": "612bdfa1",
   "metadata": {},
   "source": [
    "**Explanation output**: The embeddings generated for each sentence are low, indicating that the sentences have no similarity."
   ]
  },
  {
   "cell_type": "markdown",
   "id": "99337351",
   "metadata": {},
   "source": [
    "## Cosine Similarity\n",
    "Here, we will calculate the cosine similarity between the embeddings of the two sets of sentences to measure how similar they are to each other."
   ]
  },
  {
   "cell_type": "markdown",
   "id": "41c3d585",
   "metadata": {},
   "source": [
    "* Calculate the cosine similarity between two sentences (sentence1 and sentence2, respectively from example1 and example2) as a measure of how similar they are to each other."
   ]
  },
  {
   "cell_type": "code",
   "execution_count": 6,
   "id": "ff244243",
   "metadata": {},
   "outputs": [
    {
     "name": "stdout",
     "output_type": "stream",
     "text": [
      "tensor([[ 0.2838,  0.1310, -0.0029],\n",
      "        [ 0.2277, -0.0327, -0.0136],\n",
      "        [-0.0124, -0.0465,  0.6571]])\n"
     ]
    }
   ],
   "source": [
    "# Calculate the cosine similarity between the embeddings of the two sets of sentences\n",
    "cosine_scores = util.cos_sim(embeddings1, embeddings2)\n",
    "\n",
    "# Display the cosine similarity scores\n",
    "print(cosine_scores)"
   ]
  },
  {
   "cell_type": "markdown",
   "id": "d9303ee6",
   "metadata": {},
   "source": [
    "- Display Cosine Similarity Scores"
   ]
  },
  {
   "cell_type": "code",
   "execution_count": 7,
   "id": "74283c98",
   "metadata": {},
   "outputs": [
    {
     "name": "stdout",
     "output_type": "stream",
     "text": [
      "The cat sits outside \t\t The dog plays in the garden \t\t Score: 0.2838\n",
      "A man is playing guitar \t\t A woman watches TV \t\t Score: -0.0327\n",
      "The movies are awesome \t\t The new movie is so great \t\t Score: 0.6571\n"
     ]
    }
   ],
   "source": [
    "# Print the cosine similarity scores for each pair of sentences\n",
    "for i in range(len(sentences1)):\n",
    "    print(f\"{sentences1[i]} \\t\\t {sentences2[i]} \\t\\t Score: {cosine_scores[i][i]:.4f}\")"
   ]
  },
  {
   "cell_type": "markdown",
   "id": "ad045803",
   "metadata": {},
   "source": [
    "**Explanation output**: The similarity between the third pair of sentences is relatively high (score: 0.6571), indicating some level of similarity."
   ]
  },
  {
   "cell_type": "markdown",
   "id": "2fcf49d7",
   "metadata": {},
   "source": [
    " - Example 3: Check Similarity Among Sentences with Similarity"
   ]
  },
  {
   "cell_type": "code",
   "execution_count": 8,
   "id": "3b2c0253",
   "metadata": {},
   "outputs": [
    {
     "name": "stdout",
     "output_type": "stream",
     "text": [
      "tensor([[ 8.1847e-02, -1.8762e-02,  6.0246e-02,  4.2736e-02, -1.0077e-01,\n",
      "          7.7356e-02,  4.2394e-02,  4.8213e-02,  3.7733e-02,  7.1035e-02,\n",
      "         -2.8980e-02,  3.2012e-02, -1.2292e-02,  1.0678e-02, -3.6665e-02,\n",
      "          1.9533e-02, -5.3808e-02, -1.1441e-02, -3.5750e-02, -3.6846e-02,\n",
      "         -3.0612e-02,  3.4660e-02,  6.8313e-02,  3.0411e-03, -4.4332e-02,\n",
      "          9.1062e-03, -4.4125e-02, -8.7327e-02, -5.4015e-02, -1.8325e-02,\n",
      "         -2.1602e-02,  2.5704e-02, -7.2077e-02,  9.2353e-03, -2.5856e-02,\n",
      "          3.8939e-02,  6.9202e-02,  3.0186e-02,  4.0532e-02,  2.1817e-04,\n",
      "         -4.9267e-02, -6.1422e-02, -3.7412e-02,  1.4324e-02, -4.2883e-02,\n",
      "         -3.8788e-02,  3.9759e-02,  3.9910e-02,  4.9719e-02, -1.1457e-02,\n",
      "         -4.7881e-02,  4.4858e-02, -1.5185e-01, -1.5263e-02,  1.6128e-02,\n",
      "          6.4546e-02, -4.1270e-02, -1.1895e-02,  1.2485e-02, -3.2212e-02,\n",
      "         -1.2699e-02,  4.1639e-02, -3.3134e-04, -1.4763e-03, -1.8282e-02,\n",
      "         -1.0024e-02,  3.3911e-02,  2.5133e-02, -8.0209e-03,  1.4745e-02,\n",
      "          5.7449e-03,  1.2046e-01,  5.1939e-02,  9.2802e-03,  7.9900e-02,\n",
      "          3.9463e-02,  2.6512e-02, -3.7524e-02,  7.9938e-02, -4.2672e-02,\n",
      "         -9.3149e-02, -2.6865e-02,  7.5209e-02, -2.7508e-02, -4.2668e-02,\n",
      "         -3.5419e-02, -2.8366e-02, -4.4302e-02, -4.4471e-02, -5.7584e-02,\n",
      "          2.1298e-02, -5.7084e-02, -4.2775e-02,  1.3546e-02, -6.5207e-02,\n",
      "         -2.8778e-02, -1.8675e-02,  3.9611e-03, -4.7567e-02,  7.7120e-02,\n",
      "          6.2492e-04,  1.4694e-01,  9.0633e-02,  8.1297e-02, -6.6739e-02,\n",
      "         -2.5771e-02, -3.8811e-02, -2.1432e-02, -1.2810e-03, -8.0271e-02,\n",
      "          2.1411e-02, -4.8963e-02, -3.0147e-02, -8.3835e-03,  1.9862e-02,\n",
      "          1.4515e-02,  1.1878e-01,  3.2209e-03,  8.7445e-02,  3.1085e-02,\n",
      "         -3.6690e-02,  6.1779e-02, -4.0936e-02,  7.8458e-03, -6.1569e-03,\n",
      "         -1.1972e-01,  1.7071e-02, -1.8995e-33, -3.9341e-02, -5.0054e-02,\n",
      "          1.3577e-02,  2.4840e-02,  1.1906e-02,  3.8039e-02,  1.0318e-01,\n",
      "         -3.3218e-02, -4.8272e-02, -4.1904e-02, -6.8303e-02,  5.7835e-02,\n",
      "         -4.4837e-02,  2.8881e-02,  7.5470e-02,  3.3005e-02, -3.8337e-02,\n",
      "          3.0523e-02, -3.7362e-02, -1.6068e-02,  3.7153e-02, -2.2647e-02,\n",
      "          2.8636e-02,  5.5795e-02, -6.7704e-03, -1.0071e-01,  4.5540e-02,\n",
      "         -2.2681e-02, -3.9441e-02,  3.9296e-02, -3.4573e-02, -1.4878e-02,\n",
      "         -5.0187e-02, -1.3688e-01, -1.5823e-02, -3.7526e-02, -3.2719e-02,\n",
      "         -1.1768e-02,  7.8438e-02,  3.6420e-02, -1.3802e-02, -4.9120e-02,\n",
      "          4.3598e-02, -7.4865e-03, -8.3958e-02,  1.1224e-01,  6.9984e-02,\n",
      "          3.5485e-02,  5.1275e-02,  3.2942e-02, -5.0265e-02, -6.5867e-02,\n",
      "         -7.8651e-02,  2.7170e-02,  3.5708e-02,  5.7235e-02,  2.9842e-02,\n",
      "         -2.3094e-02,  1.1127e-01, -8.9963e-03,  8.6170e-03,  2.7957e-02,\n",
      "          4.3591e-02,  3.6229e-02,  8.3947e-02,  5.0872e-02,  3.8139e-02,\n",
      "         -2.0014e-02, -3.9375e-02, -4.6054e-02, -1.1377e-01,  1.9604e-02,\n",
      "          7.1613e-02, -1.5099e-02, -1.1551e-01, -7.7052e-03,  2.4349e-02,\n",
      "         -8.1260e-02, -1.1667e-02, -8.0027e-02,  4.5831e-02, -1.5959e-02,\n",
      "          7.2120e-02,  4.2770e-02, -5.2367e-02, -3.1655e-03, -2.7845e-02,\n",
      "         -1.1084e-01, -5.0114e-04, -1.8384e-02,  1.1175e-01,  3.1920e-04,\n",
      "         -1.8314e-02, -1.1656e-01, -6.3793e-02,  1.4817e-33,  3.9745e-02,\n",
      "         -7.5896e-02, -4.2199e-02,  1.4290e-02, -3.2657e-02, -3.0735e-02,\n",
      "         -6.9216e-02,  6.2995e-03,  6.6866e-02, -1.8429e-02, -2.0130e-02,\n",
      "         -6.9012e-02,  6.9959e-03,  3.0835e-02, -2.2458e-02, -7.6079e-02,\n",
      "          9.0579e-02, -3.6836e-02,  3.5113e-02,  1.3921e-02, -1.0408e-01,\n",
      "          2.5817e-02, -2.2580e-03, -1.1943e-02,  8.6151e-02, -1.0813e-02,\n",
      "         -1.9853e-02, -6.1042e-02, -4.4469e-02,  3.9893e-02,  5.4972e-02,\n",
      "          4.4755e-02,  3.4837e-03, -1.7003e-02, -6.6977e-02, -9.3766e-02,\n",
      "         -7.1386e-03, -6.3272e-02, -4.0954e-02,  3.1297e-02,  1.1467e-01,\n",
      "         -5.4516e-03,  1.2175e-01, -2.3421e-02,  2.8389e-02,  2.8552e-02,\n",
      "          5.1026e-02,  4.3508e-02,  8.9158e-02, -2.0833e-02, -2.2761e-02,\n",
      "         -6.5066e-02,  3.7343e-02, -6.1070e-02,  6.9433e-02,  2.1434e-02,\n",
      "          7.5031e-02,  1.0259e-02,  2.3523e-02, -4.6611e-02, -1.2689e-02,\n",
      "         -1.7140e-03, -7.1013e-02,  4.3752e-02, -1.4789e-02, -6.4326e-02,\n",
      "         -3.2118e-02, -5.4428e-02,  4.3253e-02,  8.0965e-03, -2.2716e-02,\n",
      "          5.5516e-02, -1.0823e-02, -5.0575e-02, -2.0193e-02,  8.2338e-02,\n",
      "         -3.2138e-02, -3.8071e-02,  1.6111e-02,  2.2084e-02, -3.5734e-02,\n",
      "          4.6916e-02,  6.4386e-03,  3.3319e-02, -8.5073e-03, -1.8948e-02,\n",
      "         -1.3198e-02,  1.9181e-02, -1.9352e-02, -6.1183e-02,  6.3275e-02,\n",
      "          5.9494e-04,  3.7599e-03, -2.7645e-02,  6.4701e-02, -1.3471e-08,\n",
      "          1.6687e-02,  7.7995e-03, -4.5791e-02, -5.0531e-02,  2.4642e-02,\n",
      "          5.9164e-02,  5.7612e-02,  2.1576e-03, -2.0131e-02, -1.6769e-02,\n",
      "          4.3144e-02,  7.1418e-03,  3.3520e-02, -2.5548e-02,  3.7196e-02,\n",
      "         -2.9414e-02,  2.0139e-01,  1.8110e-02,  6.6121e-03,  5.2817e-02,\n",
      "          1.0621e-01, -2.4335e-02,  7.6162e-02,  2.2998e-02, -6.9017e-02,\n",
      "          7.6094e-02,  5.6546e-02,  9.2004e-03,  4.2390e-02,  3.3043e-02,\n",
      "          2.3819e-02,  3.2909e-02,  1.6390e-02, -4.8044e-02,  1.6190e-02,\n",
      "         -5.4849e-02,  2.8653e-02,  1.6269e-02, -6.6606e-02,  4.1093e-02,\n",
      "          1.1181e-02,  1.1971e-03,  3.7961e-02, -2.2767e-02, -6.0425e-02,\n",
      "         -4.7161e-02,  8.3149e-02, -7.5340e-02,  8.8498e-02,  6.0321e-02,\n",
      "         -1.1620e-02,  5.7665e-02,  1.0833e-01,  1.2648e-02,  3.4741e-02,\n",
      "         -2.8430e-02, -1.0041e-02, -6.2331e-02, -7.0760e-02,  4.6636e-02,\n",
      "          2.0206e-02,  7.4220e-03,  7.3754e-03, -3.2062e-02],\n",
      "        [ 1.0333e-01, -5.5327e-02,  7.9009e-02,  8.7599e-02, -8.4359e-02,\n",
      "          3.0338e-02,  6.1314e-02,  1.0695e-02,  4.5625e-02,  4.0640e-02,\n",
      "         -4.9932e-03,  1.3677e-02, -2.2928e-02,  4.5490e-02, -3.6367e-03,\n",
      "          2.1164e-02,  4.2144e-02,  1.0535e-02, -1.0641e-02, -4.4281e-03,\n",
      "         -2.9108e-02, -1.7680e-02,  9.0072e-02,  1.2358e-02, -1.2527e-02,\n",
      "         -1.8012e-02, -5.1632e-02, -7.2805e-02, -2.1810e-02, -1.6597e-02,\n",
      "         -8.3131e-02,  1.9232e-02, -5.1044e-02,  3.7192e-03,  6.5889e-03,\n",
      "          1.9659e-02,  3.2317e-02,  5.2474e-02,  2.9911e-02,  6.6994e-03,\n",
      "         -4.6979e-02, -7.1221e-02,  1.9477e-02, -5.9853e-03, -4.2284e-02,\n",
      "         -7.7925e-02, -1.0203e-02,  3.3775e-02, -9.6145e-03, -3.5525e-02,\n",
      "         -6.1060e-02,  2.6850e-02, -1.0133e-01, -6.2038e-02, -7.7909e-04,\n",
      "          2.2177e-02, -6.2333e-02,  2.6087e-02,  7.1495e-02, -6.4641e-02,\n",
      "         -1.7373e-02,  2.7139e-02, -3.5917e-03,  3.2604e-03, -8.1237e-03,\n",
      "         -7.9122e-02,  2.8277e-02,  1.1079e-01,  4.9121e-03, -8.5990e-03,\n",
      "          2.4273e-02,  1.0355e-01,  2.0752e-02,  1.8928e-02,  5.3112e-02,\n",
      "          1.5867e-02,  7.4916e-02, -4.6528e-02,  4.7585e-02, -7.2184e-03,\n",
      "         -7.4112e-02, -2.1798e-02,  6.6042e-02,  1.7807e-02, -6.0333e-02,\n",
      "         -6.5030e-02, -3.8840e-02, -5.4745e-03, -2.1644e-02, -4.5565e-02,\n",
      "         -5.6063e-03, -7.5349e-02, -4.2360e-02,  7.7390e-04, -3.0588e-02,\n",
      "         -5.4390e-03, -2.8464e-02, -2.5470e-02, -4.6605e-02,  4.8255e-02,\n",
      "          3.7981e-02,  1.4631e-01,  6.9406e-02,  8.9448e-02,  5.0986e-03,\n",
      "         -3.6240e-02, -1.4051e-04, -1.8502e-02, -4.7487e-02, -5.3228e-02,\n",
      "          6.1290e-02, -2.9077e-02, -6.6662e-02, -5.4456e-03,  6.4389e-02,\n",
      "          2.2188e-02,  5.5311e-02, -2.3847e-03, -3.6089e-05, -3.1657e-02,\n",
      "          4.2380e-02,  4.7502e-02, -8.4646e-02,  3.7409e-02,  1.7797e-02,\n",
      "         -7.5514e-02,  5.8836e-02, -3.1598e-33,  1.5870e-02, -2.0549e-02,\n",
      "          8.8488e-03,  3.7308e-02,  1.0660e-01,  8.7816e-02,  7.1213e-02,\n",
      "         -1.9987e-02, -6.0635e-02, -2.2613e-02, -6.3817e-02,  4.0992e-02,\n",
      "         -7.7491e-02,  2.7985e-02,  3.3447e-02,  3.7158e-02, -8.2587e-02,\n",
      "          8.3705e-02, -2.3737e-02, -1.1726e-03,  6.1803e-02, -2.4425e-02,\n",
      "          3.3139e-02,  5.3252e-02, -1.9298e-03, -6.9518e-02,  8.2294e-02,\n",
      "         -3.0352e-02, -5.1249e-02,  3.1027e-02, -7.2476e-03, -5.8148e-03,\n",
      "         -6.0982e-02, -1.0551e-01,  1.8720e-02, -9.7563e-03,  2.4657e-02,\n",
      "         -3.1207e-02,  5.8291e-02,  5.8844e-02, -1.4682e-02, -7.5929e-02,\n",
      "         -1.7742e-02, -5.8931e-02, -4.9576e-02,  8.7438e-02,  5.0897e-02,\n",
      "          6.2251e-03, -1.7320e-02,  9.1668e-03, -5.7922e-02, -3.4922e-02,\n",
      "         -5.0915e-02,  2.5510e-02,  2.1338e-02,  4.5179e-02,  7.1835e-02,\n",
      "         -8.8110e-02,  1.5073e-01, -1.5459e-04,  7.5126e-02,  8.1379e-03,\n",
      "         -2.0990e-02, -3.0788e-02,  3.6254e-02,  1.8853e-02,  5.4755e-02,\n",
      "         -6.1751e-02,  2.0652e-02, -2.2683e-02, -1.0142e-01,  3.1880e-02,\n",
      "          2.2582e-02,  2.4629e-02, -1.6353e-01,  2.5371e-02, -1.1075e-02,\n",
      "         -4.3780e-02, -1.2220e-02, -1.2513e-02,  6.4738e-02, -2.8481e-02,\n",
      "         -1.8661e-02,  4.6503e-02, -4.3130e-02, -1.6439e-02, -4.4994e-02,\n",
      "         -1.0709e-01, -2.5271e-02, -3.7052e-02,  9.4831e-02,  3.0258e-03,\n",
      "          3.4058e-02, -8.4097e-02, -4.5515e-02,  2.2104e-33, -1.0712e-02,\n",
      "         -3.7823e-02, -6.9342e-02, -4.5879e-02, -4.3213e-02, -8.8942e-02,\n",
      "         -7.8416e-02,  4.6204e-02,  6.0471e-02, -4.7174e-02, -5.0113e-03,\n",
      "         -5.8219e-02, -3.9789e-02,  7.1694e-03,  3.4946e-02, -4.2831e-02,\n",
      "          1.1296e-01, -6.5083e-02, -3.2505e-02,  2.7240e-03, -6.0147e-02,\n",
      "          3.6715e-02, -4.4168e-02,  1.1516e-02,  9.3082e-02,  1.9481e-03,\n",
      "          2.2274e-02, -7.0544e-02, -6.6699e-02, -2.2625e-02,  1.3130e-02,\n",
      "          4.9155e-03,  8.6089e-03, -1.7695e-03, -6.7264e-02, -2.0367e-02,\n",
      "          1.0092e-03, -6.7376e-02, -8.9246e-03,  3.0263e-02,  9.8575e-02,\n",
      "         -6.1588e-02,  1.2252e-01, -1.3689e-02,  2.5240e-02,  9.8295e-02,\n",
      "          2.9079e-02,  6.2420e-02,  1.1019e-01,  1.4159e-03, -4.9769e-03,\n",
      "         -4.0620e-02,  2.0168e-02, -1.6198e-02,  6.3868e-02, -4.8408e-03,\n",
      "          3.3787e-03,  4.6699e-02,  4.9136e-02, -3.2696e-02,  5.6028e-02,\n",
      "          5.8334e-02, -8.9211e-02,  2.8155e-02, -1.1744e-02, -7.7023e-02,\n",
      "         -1.3393e-02, -7.7862e-02, -2.7131e-02, -2.5080e-02,  5.9288e-03,\n",
      "          2.1436e-02,  1.1821e-02, -2.3215e-02,  1.4828e-02,  6.2736e-02,\n",
      "         -6.4722e-02, -9.1540e-02, -1.1505e-02, -1.1000e-02, -6.8946e-02,\n",
      "         -8.2841e-03, -1.3031e-02,  3.8033e-02,  3.6507e-02, -4.3456e-02,\n",
      "         -3.9132e-02,  4.1269e-02,  1.5474e-02, -1.9486e-02,  3.3680e-02,\n",
      "         -1.2706e-02,  2.5711e-02,  3.2318e-02,  2.4258e-03, -1.4916e-08,\n",
      "         -1.8078e-02, -4.9116e-02, -1.6960e-02, -5.3619e-02,  1.5346e-02,\n",
      "          7.1012e-02,  2.2141e-02,  4.0100e-02, -9.7918e-03, -7.0370e-03,\n",
      "          1.7671e-02,  1.0477e-02, -5.8048e-03,  4.3273e-03,  5.4908e-02,\n",
      "         -5.4686e-02,  1.5440e-01, -8.8198e-03,  1.2527e-02,  6.1454e-02,\n",
      "          1.6795e-01, -7.3625e-03,  3.8249e-02, -1.1148e-02, -6.9214e-02,\n",
      "          2.4075e-02,  5.0646e-03,  2.1720e-02,  1.2388e-02,  5.4139e-02,\n",
      "          2.8056e-02,  7.0191e-02,  2.1900e-02, -1.9399e-02, -2.6084e-02,\n",
      "         -2.4757e-02,  8.4195e-02,  5.0857e-03, -6.2939e-02, -1.9278e-02,\n",
      "          4.5514e-02, -3.6612e-02,  8.4421e-02, -5.2432e-03, -7.1507e-02,\n",
      "         -1.7455e-02,  5.1721e-02, -1.6011e-01,  9.2798e-02,  8.6293e-02,\n",
      "         -1.7126e-02, -1.9837e-03,  9.0348e-02,  1.8264e-02,  4.7949e-03,\n",
      "         -5.0790e-02,  1.3883e-02, -6.3655e-02, -4.4074e-02,  6.1673e-02,\n",
      "          3.6427e-02,  6.7850e-02, -1.1378e-02,  1.0940e-02]])\n"
     ]
    }
   ],
   "source": [
    "# Define two sentences that have similarity\n",
    "sentences3 = [\n",
    "    'She loves reading books',\n",
    "    'She likes to read stories'\n",
    "]\n",
    "\n",
    "# Encode the sentences to generate embeddings\n",
    "embeddings3 = model.encode(sentences3, convert_to_tensor=True)\n",
    "\n",
    "# Display the embeddings\n",
    "print(embeddings3)"
   ]
  },
  {
   "cell_type": "markdown",
   "id": "80016005",
   "metadata": {},
   "source": [
    "**Explanation output**: The embeddings generated for these sentences are high, indicating that there is a similarity between the sentences."
   ]
  },
  {
   "cell_type": "markdown",
   "id": "a0498025",
   "metadata": {},
   "source": [
    "### Conclusion\n",
    "This notebook showed how to use the sentence-transformers library to generate sentence embeddings and measure sentence similarity. These embeddings are useful for tasks like clustering and text classification. The all-MiniLM-L6-v2 model was chosen for its balance of performance and efficiency, though trade-offs depend on task needs. In summary, this model is efficient and versatile for general use but may need fine-tuning or a stronger model for specialized tasks. It excels in real-time applications and large-scale processing due to its speed but may fall short for domain-specific or high-accuracy demands."
   ]
  },
  {
   "cell_type": "markdown",
   "id": "4405d34e",
   "metadata": {},
   "source": [
    "### Next Steps\n",
    "- Try this model with your own sentences!"
   ]
  }
 ],
 "metadata": {
  "kernelspec": {
   "display_name": "Python 3 (ipykernel)",
   "language": "python",
   "name": "python3"
  },
  "language_info": {
   "codemirror_mode": {
    "name": "ipython",
    "version": 3
   },
   "file_extension": ".py",
   "mimetype": "text/x-python",
   "name": "python",
   "nbconvert_exporter": "python",
   "pygments_lexer": "ipython3",
   "version": "3.12.1"
  }
 },
 "nbformat": 4,
 "nbformat_minor": 5
}
